{
 "cells": [
  {
   "cell_type": "code",
   "execution_count": 1,
   "metadata": {},
   "outputs": [],
   "source": [
    "#Carga de las librerias necesarias\n",
    "\n",
    "import numpy as np\n",
    "import pandas as pd\n",
    "\n",
    "# Visualizacion de Datos\n",
    "import matplotlib.pyplot as plt\n",
    "import seaborn as sns\n",
    "\n",
    "# Estadisticas\n",
    "from statsmodels.graphics.gofplots import qqplot\n",
    "# Esta funcion compara la distribucion de la muestra con una distribucion normal, para comprobar si tu muestra se distribuye normalmente o no."
   ]
  },
  {
   "cell_type": "code",
   "execution_count": 2,
   "metadata": {},
   "outputs": [
    {
     "data": {
      "text/html": [
       "<div>\n",
       "<style scoped>\n",
       "    .dataframe tbody tr th:only-of-type {\n",
       "        vertical-align: middle;\n",
       "    }\n",
       "\n",
       "    .dataframe tbody tr th {\n",
       "        vertical-align: top;\n",
       "    }\n",
       "\n",
       "    .dataframe thead th {\n",
       "        text-align: right;\n",
       "    }\n",
       "</style>\n",
       "<table border=\"1\" class=\"dataframe\">\n",
       "  <thead>\n",
       "    <tr style=\"text-align: right;\">\n",
       "      <th></th>\n",
       "      <th>Provincia</th>\n",
       "      <th>Partido</th>\n",
       "      <th>Localidad</th>\n",
       "      <th>Link Indec</th>\n",
       "      <th>ADSL</th>\n",
       "      <th>CABLEMODEM</th>\n",
       "      <th>DIAL UP</th>\n",
       "      <th>FIBRA OPTICA</th>\n",
       "      <th>OTROS</th>\n",
       "      <th>SATELITAL</th>\n",
       "      <th>WIMAX</th>\n",
       "      <th>WIRELESS</th>\n",
       "      <th>Total general</th>\n",
       "      <th>Unnamed: 13</th>\n",
       "    </tr>\n",
       "  </thead>\n",
       "  <tbody>\n",
       "    <tr>\n",
       "      <th>0</th>\n",
       "      <td>BUENOS AIRES</td>\n",
       "      <td>25 de Mayo</td>\n",
       "      <td>25 de Mayo</td>\n",
       "      <td>6854100</td>\n",
       "      <td>873</td>\n",
       "      <td>4.704</td>\n",
       "      <td>- 0</td>\n",
       "      <td>2</td>\n",
       "      <td>- 0</td>\n",
       "      <td>975</td>\n",
       "      <td>- 0</td>\n",
       "      <td>664</td>\n",
       "      <td>7.218</td>\n",
       "      <td>NaN</td>\n",
       "    </tr>\n",
       "    <tr>\n",
       "      <th>1</th>\n",
       "      <td>BUENOS AIRES</td>\n",
       "      <td>25 de Mayo</td>\n",
       "      <td>Del Valle</td>\n",
       "      <td>6854020</td>\n",
       "      <td>181</td>\n",
       "      <td>- 0</td>\n",
       "      <td>- 0</td>\n",
       "      <td>- 0</td>\n",
       "      <td>10</td>\n",
       "      <td>1</td>\n",
       "      <td>- 0</td>\n",
       "      <td>- 0</td>\n",
       "      <td>192</td>\n",
       "      <td>NaN</td>\n",
       "    </tr>\n",
       "    <tr>\n",
       "      <th>2</th>\n",
       "      <td>BUENOS AIRES</td>\n",
       "      <td>25 de Mayo</td>\n",
       "      <td>Gobernador Ugarte</td>\n",
       "      <td>6854040</td>\n",
       "      <td>- 0</td>\n",
       "      <td>- 0</td>\n",
       "      <td>- 0</td>\n",
       "      <td>- 0</td>\n",
       "      <td>- 0</td>\n",
       "      <td>- 0</td>\n",
       "      <td>- 0</td>\n",
       "      <td>181</td>\n",
       "      <td>181</td>\n",
       "      <td>NaN</td>\n",
       "    </tr>\n",
       "    <tr>\n",
       "      <th>3</th>\n",
       "      <td>BUENOS AIRES</td>\n",
       "      <td>25 de Mayo</td>\n",
       "      <td>Norberto de la Riestra</td>\n",
       "      <td>6854060</td>\n",
       "      <td>- 0</td>\n",
       "      <td>782</td>\n",
       "      <td>- 0</td>\n",
       "      <td>6</td>\n",
       "      <td>167</td>\n",
       "      <td>- 0</td>\n",
       "      <td>- 0</td>\n",
       "      <td>327</td>\n",
       "      <td>1.282</td>\n",
       "      <td>NaN</td>\n",
       "    </tr>\n",
       "    <tr>\n",
       "      <th>4</th>\n",
       "      <td>BUENOS AIRES</td>\n",
       "      <td>25 de Mayo</td>\n",
       "      <td>Lucas Monteverde</td>\n",
       "      <td>6854050</td>\n",
       "      <td>- 0</td>\n",
       "      <td>- 0</td>\n",
       "      <td>- 0</td>\n",
       "      <td>- 0</td>\n",
       "      <td>- 0</td>\n",
       "      <td>- 0</td>\n",
       "      <td>- 0</td>\n",
       "      <td>6</td>\n",
       "      <td>6</td>\n",
       "      <td>NaN</td>\n",
       "    </tr>\n",
       "  </tbody>\n",
       "</table>\n",
       "</div>"
      ],
      "text/plain": [
       "      Provincia     Partido               Localidad Link Indec ADSL  \\\n",
       "0  BUENOS AIRES  25 de Mayo              25 de Mayo    6854100  873   \n",
       "1  BUENOS AIRES  25 de Mayo               Del Valle    6854020  181   \n",
       "2  BUENOS AIRES  25 de Mayo       Gobernador Ugarte    6854040  - 0   \n",
       "3  BUENOS AIRES  25 de Mayo  Norberto de la Riestra    6854060  - 0   \n",
       "4  BUENOS AIRES  25 de Mayo        Lucas Monteverde    6854050  - 0   \n",
       "\n",
       "  CABLEMODEM DIAL UP FIBRA OPTICA OTROS SATELITAL WIMAX WIRELESS  \\\n",
       "0      4.704     - 0            2   - 0       975   - 0      664   \n",
       "1        - 0     - 0          - 0    10         1   - 0      - 0   \n",
       "2        - 0     - 0          - 0   - 0       - 0   - 0      181   \n",
       "3        782     - 0            6   167       - 0   - 0      327   \n",
       "4        - 0     - 0          - 0   - 0       - 0   - 0        6   \n",
       "\n",
       "  Total general  Unnamed: 13  \n",
       "0         7.218          NaN  \n",
       "1           192          NaN  \n",
       "2           181          NaN  \n",
       "3         1.282          NaN  \n",
       "4             6          NaN  "
      ]
     },
     "execution_count": 2,
     "metadata": {},
     "output_type": "execute_result"
    }
   ],
   "source": [
    "# Cargar los datos en un dataframe\n",
    "Internet_TecyLocalidad = pd.read_csv(r'C:\\Users\\oomph\\Documents\\Henry Data Science\\DTS09_Proyecto_Individual02\\Proyecto-TelecomArg\\AccesosaInternetfijoportecnologiaylocalidad_2791751681941036387.csv', sep = ',')\n",
    "Internet_TecyLocalidad.head()"
   ]
  },
  {
   "cell_type": "code",
   "execution_count": 17,
   "metadata": {},
   "outputs": [
    {
     "data": {
      "text/plain": [
       "Provincia        0\n",
       "Partido          0\n",
       "Localidad        0\n",
       "Link Indec       0\n",
       "ADSL             0\n",
       "CABLEMODEM       0\n",
       "DIAL UP          0\n",
       "FIBRA OPTICA     0\n",
       "OTROS            0\n",
       "SATELITAL        0\n",
       "WIMAX            0\n",
       "WIRELESS         0\n",
       "Total general    0\n",
       "dtype: int64"
      ]
     },
     "execution_count": 17,
     "metadata": {},
     "output_type": "execute_result"
    }
   ],
   "source": [
    "Internet_TecyLocalidad.isnull().sum() # Revisar si hay valores faltantes"
   ]
  },
  {
   "cell_type": "code",
   "execution_count": 3,
   "metadata": {},
   "outputs": [
    {
     "data": {
      "text/plain": [
       "Provincia         object\n",
       "Partido           object\n",
       "Localidad         object\n",
       "Link Indec        object\n",
       "ADSL              object\n",
       "CABLEMODEM        object\n",
       "DIAL UP           object\n",
       "FIBRA OPTICA      object\n",
       "OTROS             object\n",
       "SATELITAL         object\n",
       "WIMAX             object\n",
       "WIRELESS          object\n",
       "Total general     object\n",
       "Unnamed: 13      float64\n",
       "dtype: object"
      ]
     },
     "execution_count": 3,
     "metadata": {},
     "output_type": "execute_result"
    }
   ],
   "source": [
    "# Revisar calidad de los datos\n",
    "\n",
    "Internet_TecyLocalidad.dtypes # Verificar los tipos de datos de cada columna\n",
    "\n"
   ]
  },
  {
   "cell_type": "code",
   "execution_count": 4,
   "metadata": {},
   "outputs": [
    {
     "data": {
      "text/html": [
       "<div>\n",
       "<style scoped>\n",
       "    .dataframe tbody tr th:only-of-type {\n",
       "        vertical-align: middle;\n",
       "    }\n",
       "\n",
       "    .dataframe tbody tr th {\n",
       "        vertical-align: top;\n",
       "    }\n",
       "\n",
       "    .dataframe thead th {\n",
       "        text-align: right;\n",
       "    }\n",
       "</style>\n",
       "<table border=\"1\" class=\"dataframe\">\n",
       "  <thead>\n",
       "    <tr style=\"text-align: right;\">\n",
       "      <th></th>\n",
       "      <th>Provincia</th>\n",
       "      <th>Partido</th>\n",
       "      <th>Localidad</th>\n",
       "      <th>Link Indec</th>\n",
       "      <th>ADSL</th>\n",
       "      <th>CABLEMODEM</th>\n",
       "      <th>DIAL UP</th>\n",
       "      <th>FIBRA OPTICA</th>\n",
       "      <th>OTROS</th>\n",
       "      <th>SATELITAL</th>\n",
       "      <th>WIMAX</th>\n",
       "      <th>WIRELESS</th>\n",
       "      <th>Total general</th>\n",
       "    </tr>\n",
       "  </thead>\n",
       "  <tbody>\n",
       "    <tr>\n",
       "      <th>count</th>\n",
       "      <td>3142</td>\n",
       "      <td>3142</td>\n",
       "      <td>3142</td>\n",
       "      <td>3142</td>\n",
       "      <td>3142</td>\n",
       "      <td>3142</td>\n",
       "      <td>3142</td>\n",
       "      <td>3142</td>\n",
       "      <td>3142</td>\n",
       "      <td>3142</td>\n",
       "      <td>3142</td>\n",
       "      <td>3142</td>\n",
       "      <td>3142</td>\n",
       "    </tr>\n",
       "    <tr>\n",
       "      <th>unique</th>\n",
       "      <td>24</td>\n",
       "      <td>432</td>\n",
       "      <td>2850</td>\n",
       "      <td>2718</td>\n",
       "      <td>724</td>\n",
       "      <td>693</td>\n",
       "      <td>86</td>\n",
       "      <td>706</td>\n",
       "      <td>219</td>\n",
       "      <td>24</td>\n",
       "      <td>12</td>\n",
       "      <td>606</td>\n",
       "      <td>1348</td>\n",
       "    </tr>\n",
       "    <tr>\n",
       "      <th>top</th>\n",
       "      <td>BUENOS AIRES</td>\n",
       "      <td>General Roca</td>\n",
       "      <td>OTROS</td>\n",
       "      <td>Sin Datos</td>\n",
       "      <td>- 0</td>\n",
       "      <td>- 0</td>\n",
       "      <td>- 0</td>\n",
       "      <td>- 0</td>\n",
       "      <td>- 0</td>\n",
       "      <td>- 0</td>\n",
       "      <td>- 0</td>\n",
       "      <td>- 0</td>\n",
       "      <td>1</td>\n",
       "    </tr>\n",
       "    <tr>\n",
       "      <th>freq</th>\n",
       "      <td>716</td>\n",
       "      <td>57</td>\n",
       "      <td>69</td>\n",
       "      <td>72</td>\n",
       "      <td>2016</td>\n",
       "      <td>2295</td>\n",
       "      <td>2760</td>\n",
       "      <td>1743</td>\n",
       "      <td>2537</td>\n",
       "      <td>2089</td>\n",
       "      <td>3131</td>\n",
       "      <td>934</td>\n",
       "      <td>193</td>\n",
       "    </tr>\n",
       "  </tbody>\n",
       "</table>\n",
       "</div>"
      ],
      "text/plain": [
       "           Provincia       Partido Localidad Link Indec  ADSL CABLEMODEM  \\\n",
       "count           3142          3142      3142       3142  3142       3142   \n",
       "unique            24           432      2850       2718   724        693   \n",
       "top     BUENOS AIRES  General Roca     OTROS  Sin Datos   - 0        - 0   \n",
       "freq             716            57        69         72  2016       2295   \n",
       "\n",
       "       DIAL UP FIBRA OPTICA OTROS SATELITAL WIMAX WIRELESS Total general  \n",
       "count     3142         3142  3142      3142  3142     3142          3142  \n",
       "unique      86          706   219        24    12      606          1348  \n",
       "top        - 0          - 0   - 0       - 0   - 0      - 0             1  \n",
       "freq      2760         1743  2537      2089  3131      934           193  "
      ]
     },
     "execution_count": 4,
     "metadata": {},
     "output_type": "execute_result"
    }
   ],
   "source": [
    "# Eliminar la columna \"Unnamed: 13\"\n",
    "Internet_TecyLocalidad = Internet_TecyLocalidad.drop(columns=[\"Unnamed: 13\"])\n",
    "\n",
    "# Resumen estadístico de las variables\n",
    "Internet_TecyLocalidad.describe()\n"
   ]
  },
  {
   "cell_type": "code",
   "execution_count": 20,
   "metadata": {},
   "outputs": [
    {
     "name": "stderr",
     "output_type": "stream",
     "text": [
      "C:\\Users\\oomph\\AppData\\Local\\Temp\\ipykernel_8092\\2707855778.py:2: FutureWarning: The default value of numeric_only in DataFrame.corr is deprecated. In a future version, it will default to False. Select only valid columns or specify the value of numeric_only to silence this warning.\n",
      "  corr_int_tec_loc = Internet_TecyLocalidad.corr()\n"
     ]
    },
    {
     "data": {
      "text/plain": [
       "<AxesSubplot: >"
      ]
     },
     "execution_count": 20,
     "metadata": {},
     "output_type": "execute_result"
    },
    {
     "data": {
      "image/png": "[encoded data removed]",
      "text/plain": [
       "<Figure size 640x480 with 2 Axes>"
      ]
     },
     "metadata": {},
     "output_type": "display_data"
    }
   ],
   "source": [
    "# Matriz de correlación - Internet Tec y Localidad\n",
    "corr_int_tec_loc = Internet_TecyLocalidad.corr()\n",
    "sns.heatmap(corr_int_tec_loc, annot=True, cmap=\"coolwarm\", vmin=-10, vmax=10) # Mapa de calor\n"
   ]
  },
  {
   "cell_type": "code",
   "execution_count": 6,
   "metadata": {},
   "outputs": [
    {
     "data": {
      "text/plain": [
       "<AxesSubplot: xlabel='ADSL', ylabel='Count'>"
      ]
     },
     "execution_count": 6,
     "metadata": {},
     "output_type": "execute_result"
    },
    {
     "data": {
      "image/png": "[encoded data removed]",
      "text/plain": [
       "<Figure size 640x480 with 1 Axes>"
      ]
     },
     "metadata": {},
     "output_type": "display_data"
    }
   ],
   "source": [
    "\n",
    "# Visualización de la distribución\n",
    "sns.histplot(Internet_TecyLocalidad[\"ADSL\"], kde=True, bins=10) # Histograma para la tecnología ADSL\n",
    "\n",
    "\n"
   ]
  },
  {
   "cell_type": "code",
   "execution_count": 7,
   "metadata": {},
   "outputs": [
    {
     "data": {
      "text/plain": [
       "<AxesSubplot: xlabel='CABLEMODEM', ylabel='Count'>"
      ]
     },
     "execution_count": 7,
     "metadata": {},
     "output_type": "execute_result"
    },
    {
     "data": {
      "image/png": "[encoded data removed]",
      "text/plain": [
       "<Figure size 640x480 with 1 Axes>"
      ]
     },
     "metadata": {},
     "output_type": "display_data"
    }
   ],
   "source": [
    "sns.histplot(Internet_TecyLocalidad[\"CABLEMODEM\"], kde=True, bins=10) # Histograma para la tecnología CABLEMODEM\n"
   ]
  },
  {
   "cell_type": "code",
   "execution_count": null,
   "metadata": {},
   "outputs": [],
   "source": [
    "sns.histplot(Internet_TecyLocalidad[\"DIAL UP\"], kde=True, bins=10) # Histograma para la tecnología DIAL UP\n"
   ]
  },
  {
   "cell_type": "code",
   "execution_count": null,
   "metadata": {},
   "outputs": [],
   "source": [
    "sns.histplot(Internet_TecyLocalidad[\"FIBRA OPTICA\"], kde=True, bins=10) # Histograma para la tecnología FIBRA OPTICA\n"
   ]
  },
  {
   "cell_type": "code",
   "execution_count": null,
   "metadata": {},
   "outputs": [],
   "source": [
    "sns.histplot(Internet_TecyLocalidad[\"OTROS\"], kde=True, bins=10) # Histograma para la tecnología OTROS\n"
   ]
  },
  {
   "cell_type": "code",
   "execution_count": null,
   "metadata": {},
   "outputs": [],
   "source": [
    "sns.histplot(Internet_TecyLocalidad[\"SATELITAL\"], kde=True, bins=10) # Histograma para la tecnología SATELITAL\n"
   ]
  },
  {
   "cell_type": "code",
   "execution_count": null,
   "metadata": {},
   "outputs": [],
   "source": [
    "sns.histplot(Internet_TecyLocalidad[\"WIMAX\"], kde=True, bins=10) # Histograma para la tecnología WIMAX\n"
   ]
  },
  {
   "cell_type": "code",
   "execution_count": null,
   "metadata": {},
   "outputs": [],
   "source": [
    "sns.histplot(Internet_TecyLocalidad[\"WIRELESS\"], kde=True, bins=10) # Histograma para la tecnología WIRELESS"
   ]
  },
  {
   "cell_type": "code",
   "execution_count": 9,
   "metadata": {},
   "outputs": [
    {
     "name": "stderr",
     "output_type": "stream",
     "text": [
      "C:\\Users\\oomph\\AppData\\Local\\Temp\\ipykernel_8092\\1678811423.py:3: FutureWarning: The default value of numeric_only in DataFrameGroupBy.mean is deprecated. In a future version, numeric_only will default to False. Either specify numeric_only or select only columns which should be valid for the function.\n",
      "  Internet_TecyLocalidad.groupby(\"Provincia\")[tecnologias].mean() # Calcular el promedio por provincia\n"
     ]
    },
    {
     "data": {
      "text/html": [
       "<div>\n",
       "<style scoped>\n",
       "    .dataframe tbody tr th:only-of-type {\n",
       "        vertical-align: middle;\n",
       "    }\n",
       "\n",
       "    .dataframe tbody tr th {\n",
       "        vertical-align: top;\n",
       "    }\n",
       "\n",
       "    .dataframe thead th {\n",
       "        text-align: right;\n",
       "    }\n",
       "</style>\n",
       "<table border=\"1\" class=\"dataframe\">\n",
       "  <thead>\n",
       "    <tr style=\"text-align: right;\">\n",
       "      <th></th>\n",
       "    </tr>\n",
       "    <tr>\n",
       "      <th>Provincia</th>\n",
       "    </tr>\n",
       "  </thead>\n",
       "  <tbody>\n",
       "    <tr>\n",
       "      <th>BUENOS AIRES</th>\n",
       "    </tr>\n",
       "    <tr>\n",
       "      <th>CABA</th>\n",
       "    </tr>\n",
       "    <tr>\n",
       "      <th>CATAMARCA</th>\n",
       "    </tr>\n",
       "    <tr>\n",
       "      <th>CHACO</th>\n",
       "    </tr>\n",
       "    <tr>\n",
       "      <th>CHUBUT</th>\n",
       "    </tr>\n",
       "    <tr>\n",
       "      <th>CORDOBA</th>\n",
       "    </tr>\n",
       "    <tr>\n",
       "      <th>CORRIENTES</th>\n",
       "    </tr>\n",
       "    <tr>\n",
       "      <th>ENTRE RIOS</th>\n",
       "    </tr>\n",
       "    <tr>\n",
       "      <th>FORMOSA</th>\n",
       "    </tr>\n",
       "    <tr>\n",
       "      <th>JUJUY</th>\n",
       "    </tr>\n",
       "    <tr>\n",
       "      <th>LA PAMPA</th>\n",
       "    </tr>\n",
       "    <tr>\n",
       "      <th>LA RIOJA</th>\n",
       "    </tr>\n",
       "    <tr>\n",
       "      <th>MENDOZA</th>\n",
       "    </tr>\n",
       "    <tr>\n",
       "      <th>MISIONES</th>\n",
       "    </tr>\n",
       "    <tr>\n",
       "      <th>NEUQUEN</th>\n",
       "    </tr>\n",
       "    <tr>\n",
       "      <th>RIO NEGRO</th>\n",
       "    </tr>\n",
       "    <tr>\n",
       "      <th>SALTA</th>\n",
       "    </tr>\n",
       "    <tr>\n",
       "      <th>SAN JUAN</th>\n",
       "    </tr>\n",
       "    <tr>\n",
       "      <th>SAN LUIS</th>\n",
       "    </tr>\n",
       "    <tr>\n",
       "      <th>SANTA CRUZ</th>\n",
       "    </tr>\n",
       "    <tr>\n",
       "      <th>SANTA FE</th>\n",
       "    </tr>\n",
       "    <tr>\n",
       "      <th>SANTIAGO DEL ESTERO</th>\n",
       "    </tr>\n",
       "    <tr>\n",
       "      <th>TIERRA DEL FUEGO</th>\n",
       "    </tr>\n",
       "    <tr>\n",
       "      <th>TUCUMAN</th>\n",
       "    </tr>\n",
       "  </tbody>\n",
       "</table>\n",
       "</div>"
      ],
      "text/plain": [
       "Empty DataFrame\n",
       "Columns: []\n",
       "Index: [BUENOS AIRES, CABA, CATAMARCA, CHACO, CHUBUT, CORDOBA, CORRIENTES, ENTRE RIOS, FORMOSA, JUJUY, LA PAMPA, LA RIOJA, MENDOZA, MISIONES, NEUQUEN, RIO NEGRO, SALTA, SAN JUAN, SAN LUIS, SANTA CRUZ, SANTA FE, SANTIAGO DEL ESTERO, TIERRA DEL FUEGO, TUCUMAN]"
      ]
     },
     "execution_count": 9,
     "metadata": {},
     "output_type": "execute_result"
    }
   ],
   "source": [
    "# Agrupación y análisis de tendencias\n",
    "tecnologias = [\"ADSL\", \"CABLEMODEM\", \"DIAL UP\", \"FIBRA OPTICA\", \"OTROS\", \"SATELITAL\", \"WIMAX\", \"WIRELESS\"]\n",
    "Internet_TecyLocalidad.groupby(\"Provincia\")[tecnologias].mean() # Calcular el promedio por provincia\n"
   ]
  },
  {
   "cell_type": "code",
   "execution_count": 10,
   "metadata": {},
   "outputs": [
    {
     "name": "stderr",
     "output_type": "stream",
     "text": [
      "C:\\Users\\oomph\\AppData\\Local\\Temp\\ipykernel_8092\\1588292074.py:1: FutureWarning: The default value of numeric_only in DataFrameGroupBy.mean is deprecated. In a future version, numeric_only will default to False. Either specify numeric_only or select only columns which should be valid for the function.\n",
      "  Internet_TecyLocalidad.groupby(\"Partido\")[tecnologias].mean() # Calcular el promedio por partido\n"
     ]
    },
    {
     "data": {
      "text/html": [
       "<div>\n",
       "<style scoped>\n",
       "    .dataframe tbody tr th:only-of-type {\n",
       "        vertical-align: middle;\n",
       "    }\n",
       "\n",
       "    .dataframe tbody tr th {\n",
       "        vertical-align: top;\n",
       "    }\n",
       "\n",
       "    .dataframe thead th {\n",
       "        text-align: right;\n",
       "    }\n",
       "</style>\n",
       "<table border=\"1\" class=\"dataframe\">\n",
       "  <thead>\n",
       "    <tr style=\"text-align: right;\">\n",
       "      <th></th>\n",
       "    </tr>\n",
       "    <tr>\n",
       "      <th>Partido</th>\n",
       "    </tr>\n",
       "  </thead>\n",
       "  <tbody>\n",
       "    <tr>\n",
       "      <th>12 de Octubre</th>\n",
       "    </tr>\n",
       "    <tr>\n",
       "      <th>1º de Mayo</th>\n",
       "    </tr>\n",
       "    <tr>\n",
       "      <th>2 de Abril</th>\n",
       "    </tr>\n",
       "    <tr>\n",
       "      <th>25 de Mayo</th>\n",
       "    </tr>\n",
       "    <tr>\n",
       "      <th>9 de Julio</th>\n",
       "    </tr>\n",
       "    <tr>\n",
       "      <th>...</th>\n",
       "    </tr>\n",
       "    <tr>\n",
       "      <th>Zapala</th>\n",
       "    </tr>\n",
       "    <tr>\n",
       "      <th>Zonda</th>\n",
       "    </tr>\n",
       "    <tr>\n",
       "      <th>Zárate</th>\n",
       "    </tr>\n",
       "    <tr>\n",
       "      <th>Ñorquincó</th>\n",
       "    </tr>\n",
       "    <tr>\n",
       "      <th>Ñorquín</th>\n",
       "    </tr>\n",
       "  </tbody>\n",
       "</table>\n",
       "<p>432 rows × 0 columns</p>\n",
       "</div>"
      ],
      "text/plain": [
       "Empty DataFrame\n",
       "Columns: []\n",
       "Index: [12 de Octubre, 1º de Mayo, 2 de Abril, 25 de Mayo, 9 de Julio, AMBA, ANTARTIDA ARGENTINA, Adolfo Alsina, Adolfo Gonzales Chaves, Aguirre, Albardón, Alberdi, Alberti, Almirante Brown, Aluminé, Ambato, Ancasti, Andalgalá, Angaco, Anta, Antofagasta de la Sierra, Apóstoles, Arauco, Arrecifes, Atamisqui, Atreucó, Avellaneda, Ayacucho, Azul, Añelo, Bahía Blanca, Balcarce, Banda, Baradero, Bariloche, Belgrano, Bella Vista, Belén, Benito Juárez, Berazategui, Berisso, Bermejo, Berón de Astrada, Biedma, Bolívar, Bragado, Brandsen, Burruyacú, Cachi, Cafayate, Cainguás, Calamuchita, Caleu Caleu, Calingasta, Campana, Candelaria, Capayán, Capital, Capitán Sarmiento, Carlos Casares, Carlos Tejedor, Carmen de Areco, Caseros, Castellanos, Castelli, Castro Barros, Catan LilL, Catriló, Caucete, Cañuelas, Cerrillos, Chacabuco, Chalileo, Chamical, Chapaleufú, Chascomús, Chical Co, Chicligasta, Chicoana, Chilecito, Chimbas, Chivilcoy, Chos Malal, Choya, Ciudad Autónoma de Buenos Aires, Cochinoca, Collón Curá, Colón, Comandante Fernández, Concepción, Concordia, Conesa, Confluencia, Conhelo, Constitución, Copo, Coronel Dorrego, Coronel Felipe Varela, Coronel Pringles, Coronel Suárez, ...]\n",
       "\n",
       "[432 rows x 0 columns]"
      ]
     },
     "execution_count": 10,
     "metadata": {},
     "output_type": "execute_result"
    }
   ],
   "source": [
    "Internet_TecyLocalidad.groupby(\"Partido\")[tecnologias].mean() # Calcular el promedio por partido\n"
   ]
  },
  {
   "cell_type": "code",
   "execution_count": 11,
   "metadata": {},
   "outputs": [
    {
     "name": "stderr",
     "output_type": "stream",
     "text": [
      "C:\\Users\\oomph\\AppData\\Local\\Temp\\ipykernel_8092\\1527351423.py:1: FutureWarning: The default value of numeric_only in DataFrameGroupBy.mean is deprecated. In a future version, numeric_only will default to False. Either specify numeric_only or select only columns which should be valid for the function.\n",
      "  Internet_TecyLocalidad.groupby(\"Localidad\")[tecnologias].mean() # Calcular el promedio por localidad\n"
     ]
    },
    {
     "data": {
      "text/html": [
       "<div>\n",
       "<style scoped>\n",
       "    .dataframe tbody tr th:only-of-type {\n",
       "        vertical-align: middle;\n",
       "    }\n",
       "\n",
       "    .dataframe tbody tr th {\n",
       "        vertical-align: top;\n",
       "    }\n",
       "\n",
       "    .dataframe thead th {\n",
       "        text-align: right;\n",
       "    }\n",
       "</style>\n",
       "<table border=\"1\" class=\"dataframe\">\n",
       "  <thead>\n",
       "    <tr style=\"text-align: right;\">\n",
       "      <th></th>\n",
       "    </tr>\n",
       "    <tr>\n",
       "      <th>Localidad</th>\n",
       "    </tr>\n",
       "  </thead>\n",
       "  <tbody>\n",
       "    <tr>\n",
       "      <th>11 De Septiembre</th>\n",
       "    </tr>\n",
       "    <tr>\n",
       "      <th>11 de Octubre</th>\n",
       "    </tr>\n",
       "    <tr>\n",
       "      <th>12 de Octubre</th>\n",
       "    </tr>\n",
       "    <tr>\n",
       "      <th>1º de Mayo</th>\n",
       "    </tr>\n",
       "    <tr>\n",
       "      <th>20 De Junio</th>\n",
       "    </tr>\n",
       "    <tr>\n",
       "      <th>...</th>\n",
       "    </tr>\n",
       "    <tr>\n",
       "      <th>ruta del sol</th>\n",
       "    </tr>\n",
       "    <tr>\n",
       "      <th>Álvarez</th>\n",
       "    </tr>\n",
       "    <tr>\n",
       "      <th>Árraga</th>\n",
       "    </tr>\n",
       "    <tr>\n",
       "      <th>Ñanducita</th>\n",
       "    </tr>\n",
       "    <tr>\n",
       "      <th>Ñorquincó</th>\n",
       "    </tr>\n",
       "  </tbody>\n",
       "</table>\n",
       "<p>2850 rows × 0 columns</p>\n",
       "</div>"
      ],
      "text/plain": [
       "Empty DataFrame\n",
       "Columns: []\n",
       "Index: [11 De Septiembre, 11 de Octubre, 12 de Octubre, 1º de Mayo, 20 De Junio, 25 de Mayo, 28 de Julio, 28 de Noviembre, 3 de Mayo, 30 de Agosto, 7 de Abril, 9 De Abril, 9 de Julio, ALPA CORRAL, Aarón Castellanos (Est. Castellanos), Abasto, Abbott, Abra Grande, Abra Pampa, Abramo, Acassuso, Acceso Norte, Acebal, Acevedo, Acheral, Achiras, Aconquija, Acoyte, Adelia María, Adolfo Gonzales Chaves  (Est. Chaves), Adolfo Van Praet, Adrogué, Aerolito, Aeropuerto Internacional Ezeiza, Agrelo, Agua Escondida, Agua de Oro, Aguada Cecilio, Aguada Guzmán, Aguada de Guerra, Aguaray, Aguará Grande, Aguas Blancas, Aguas Calientes, Aguas Verdes, Aguilares, Agustina, Agustoni, Agustín Roca, Aicuña, Aimogasta, Alba Posse, Albarellos, Alberdi, Alberdi Viejo, Alberti   (Est. Andrés Vaccarezza), Alcira (Est. Gigena), Alcorta, Aldao, Aldao (Est. Casablanca), Aldea Apeleg, Aldea Beleiro, Aldea Brasilera, Aldea Epulef, Aldea Escolar, Aldea María Luisa, Aldea Protestante, Aldea San Antonio, Aldea San Juan, Aldea San Rafael, Aldea Spatzenkutter, Aldea Valle María, Alderetes, Aldo Bonzi, Alejandra, Alejandro Korn, Alejandro Petión, Alejandro Roca (Est. Alejandro), Alejo Ledesma, Alfredo Demarchi  (Est. Facundo Quiroga), Alhuampa, Alicia, Alicia Baja, Alijilán, Allen, Almafuerte, Alpachiri, Alpasinche, Alta Gracia, Alta Italia, Alto Alegre, Alto Los Cardales, Alto Pelado, Alto Pencoso, Alto Río Senguer, Alto Salvador, Alto Verde, Alto de Sierra, Alto de la Sierra, Alto de los Quebrachos, ...]\n",
       "\n",
       "[2850 rows x 0 columns]"
      ]
     },
     "execution_count": 11,
     "metadata": {},
     "output_type": "execute_result"
    }
   ],
   "source": [
    "Internet_TecyLocalidad.groupby(\"Localidad\")[tecnologias].mean() # Calcular el promedio por localidad\n"
   ]
  },
  {
   "cell_type": "code",
   "execution_count": 18,
   "metadata": {},
   "outputs": [
    {
     "data": {
      "text/html": [
       "<div>\n",
       "<style scoped>\n",
       "    .dataframe tbody tr th:only-of-type {\n",
       "        vertical-align: middle;\n",
       "    }\n",
       "\n",
       "    .dataframe tbody tr th {\n",
       "        vertical-align: top;\n",
       "    }\n",
       "\n",
       "    .dataframe thead th {\n",
       "        text-align: right;\n",
       "    }\n",
       "</style>\n",
       "<table border=\"1\" class=\"dataframe\">\n",
       "  <thead>\n",
       "    <tr style=\"text-align: right;\">\n",
       "      <th></th>\n",
       "      <th>Provincia</th>\n",
       "      <th>Partido</th>\n",
       "      <th>Localidad</th>\n",
       "      <th>Link Indec</th>\n",
       "      <th>ADSL</th>\n",
       "      <th>CABLEMODEM</th>\n",
       "      <th>DIAL UP</th>\n",
       "      <th>FIBRA OPTICA</th>\n",
       "      <th>OTROS</th>\n",
       "      <th>SATELITAL</th>\n",
       "      <th>WIMAX</th>\n",
       "      <th>WIRELESS</th>\n",
       "      <th>Total general</th>\n",
       "    </tr>\n",
       "  </thead>\n",
       "  <tbody>\n",
       "    <tr>\n",
       "      <th>0</th>\n",
       "      <td>BUENOS AIRES</td>\n",
       "      <td>25 de Mayo</td>\n",
       "      <td>25 de Mayo</td>\n",
       "      <td>6854100</td>\n",
       "      <td>873</td>\n",
       "      <td>4.704</td>\n",
       "      <td>- 0</td>\n",
       "      <td>2</td>\n",
       "      <td>- 0</td>\n",
       "      <td>975</td>\n",
       "      <td>- 0</td>\n",
       "      <td>664</td>\n",
       "      <td>7.218</td>\n",
       "    </tr>\n",
       "    <tr>\n",
       "      <th>1</th>\n",
       "      <td>BUENOS AIRES</td>\n",
       "      <td>25 de Mayo</td>\n",
       "      <td>Del Valle</td>\n",
       "      <td>6854020</td>\n",
       "      <td>181</td>\n",
       "      <td>- 0</td>\n",
       "      <td>- 0</td>\n",
       "      <td>- 0</td>\n",
       "      <td>10</td>\n",
       "      <td>1</td>\n",
       "      <td>- 0</td>\n",
       "      <td>- 0</td>\n",
       "      <td>192</td>\n",
       "    </tr>\n",
       "    <tr>\n",
       "      <th>2</th>\n",
       "      <td>BUENOS AIRES</td>\n",
       "      <td>25 de Mayo</td>\n",
       "      <td>Gobernador Ugarte</td>\n",
       "      <td>6854040</td>\n",
       "      <td>- 0</td>\n",
       "      <td>- 0</td>\n",
       "      <td>- 0</td>\n",
       "      <td>- 0</td>\n",
       "      <td>- 0</td>\n",
       "      <td>- 0</td>\n",
       "      <td>- 0</td>\n",
       "      <td>181</td>\n",
       "      <td>181</td>\n",
       "    </tr>\n",
       "    <tr>\n",
       "      <th>3</th>\n",
       "      <td>BUENOS AIRES</td>\n",
       "      <td>25 de Mayo</td>\n",
       "      <td>Norberto de la Riestra</td>\n",
       "      <td>6854060</td>\n",
       "      <td>- 0</td>\n",
       "      <td>782</td>\n",
       "      <td>- 0</td>\n",
       "      <td>6</td>\n",
       "      <td>167</td>\n",
       "      <td>- 0</td>\n",
       "      <td>- 0</td>\n",
       "      <td>327</td>\n",
       "      <td>1.282</td>\n",
       "    </tr>\n",
       "    <tr>\n",
       "      <th>4</th>\n",
       "      <td>BUENOS AIRES</td>\n",
       "      <td>25 de Mayo</td>\n",
       "      <td>Lucas Monteverde</td>\n",
       "      <td>6854050</td>\n",
       "      <td>- 0</td>\n",
       "      <td>- 0</td>\n",
       "      <td>- 0</td>\n",
       "      <td>- 0</td>\n",
       "      <td>- 0</td>\n",
       "      <td>- 0</td>\n",
       "      <td>- 0</td>\n",
       "      <td>6</td>\n",
       "      <td>6</td>\n",
       "    </tr>\n",
       "  </tbody>\n",
       "</table>\n",
       "</div>"
      ],
      "text/plain": [
       "      Provincia     Partido               Localidad Link Indec ADSL  \\\n",
       "0  BUENOS AIRES  25 de Mayo              25 de Mayo    6854100  873   \n",
       "1  BUENOS AIRES  25 de Mayo               Del Valle    6854020  181   \n",
       "2  BUENOS AIRES  25 de Mayo       Gobernador Ugarte    6854040  - 0   \n",
       "3  BUENOS AIRES  25 de Mayo  Norberto de la Riestra    6854060  - 0   \n",
       "4  BUENOS AIRES  25 de Mayo        Lucas Monteverde    6854050  - 0   \n",
       "\n",
       "  CABLEMODEM DIAL UP FIBRA OPTICA OTROS SATELITAL WIMAX WIRELESS Total general  \n",
       "0      4.704     - 0            2   - 0       975   - 0      664         7.218  \n",
       "1        - 0     - 0          - 0    10         1   - 0      - 0           192  \n",
       "2        - 0     - 0          - 0   - 0       - 0   - 0      181           181  \n",
       "3        782     - 0            6   167       - 0   - 0      327         1.282  \n",
       "4        - 0     - 0          - 0   - 0       - 0   - 0        6             6  "
      ]
     },
     "execution_count": 18,
     "metadata": {},
     "output_type": "execute_result"
    }
   ],
   "source": [
    "Internet_TecyLocalidad.head()"
   ]
  },
  {
   "cell_type": "code",
   "execution_count": 16,
   "metadata": {},
   "outputs": [
    {
     "ename": "ValueError",
     "evalue": "min() arg is an empty sequence",
     "output_type": "error",
     "traceback": [
      "\u001b[1;31m---------------------------------------------------------------------------\u001b[0m",
      "\u001b[1;31mValueError\u001b[0m                                Traceback (most recent call last)",
      "\u001b[1;32mc:\\Users\\oomph\\Documents\\Henry Data Science\\DTS09_Proyecto_Individual02\\Proyecto-TelecomArg\\Internet_TecyLocalidad.ipynb Cell 18\u001b[0m in \u001b[0;36m5\n\u001b[0;32m      <a href='vscode-notebook-cell:/c%3A/Users/oomph/Documents/Henry%20Data%20Science/DTS09_Proyecto_Individual02/Proyecto-TelecomArg/Internet_TecyLocalidad.ipynb#X10sZmlsZQ%3D%3D?line=1'>2</a>\u001b[0m tecnologias \u001b[39m=\u001b[39m [\u001b[39m\"\u001b[39m\u001b[39mADSL\u001b[39m\u001b[39m\"\u001b[39m, \u001b[39m\"\u001b[39m\u001b[39mCABLEMODEM\u001b[39m\u001b[39m\"\u001b[39m, \u001b[39m\"\u001b[39m\u001b[39mDIAL UP\u001b[39m\u001b[39m\"\u001b[39m, \u001b[39m\"\u001b[39m\u001b[39mFIBRA OPTICA\u001b[39m\u001b[39m\"\u001b[39m, \u001b[39m\"\u001b[39m\u001b[39mOTROS\u001b[39m\u001b[39m\"\u001b[39m, \u001b[39m\"\u001b[39m\u001b[39mSATELITAL\u001b[39m\u001b[39m\"\u001b[39m, \u001b[39m\"\u001b[39m\u001b[39mWIMAX\u001b[39m\u001b[39m\"\u001b[39m, \u001b[39m\"\u001b[39m\u001b[39mWIRELESS\u001b[39m\u001b[39m\"\u001b[39m]\n\u001b[0;32m      <a href='vscode-notebook-cell:/c%3A/Users/oomph/Documents/Henry%20Data%20Science/DTS09_Proyecto_Individual02/Proyecto-TelecomArg/Internet_TecyLocalidad.ipynb#X10sZmlsZQ%3D%3D?line=3'>4</a>\u001b[0m \u001b[39m# Detección de outliers\u001b[39;00m\n\u001b[1;32m----> <a href='vscode-notebook-cell:/c%3A/Users/oomph/Documents/Henry%20Data%20Science/DTS09_Proyecto_Individual02/Proyecto-TelecomArg/Internet_TecyLocalidad.ipynb#X10sZmlsZQ%3D%3D?line=4'>5</a>\u001b[0m sns\u001b[39m.\u001b[39;49mboxplot(data\u001b[39m=\u001b[39;49mInternet_TecyLocalidad[tecnologias]) \u001b[39m# Verificar si hay outliers\u001b[39;00m\n",
      "File \u001b[1;32m~\\AppData\\Local\\Packages\\PythonSoftwareFoundation.Python.3.10_qbz5n2kfra8p0\\LocalCache\\local-packages\\Python310\\site-packages\\seaborn\\categorical.py:2231\u001b[0m, in \u001b[0;36mboxplot\u001b[1;34m(data, x, y, hue, order, hue_order, orient, color, palette, saturation, width, dodge, fliersize, linewidth, whis, ax, **kwargs)\u001b[0m\n\u001b[0;32m   2224\u001b[0m \u001b[39mdef\u001b[39;00m \u001b[39mboxplot\u001b[39m(\n\u001b[0;32m   2225\u001b[0m     data\u001b[39m=\u001b[39m\u001b[39mNone\u001b[39;00m, \u001b[39m*\u001b[39m, x\u001b[39m=\u001b[39m\u001b[39mNone\u001b[39;00m, y\u001b[39m=\u001b[39m\u001b[39mNone\u001b[39;00m, hue\u001b[39m=\u001b[39m\u001b[39mNone\u001b[39;00m, order\u001b[39m=\u001b[39m\u001b[39mNone\u001b[39;00m, hue_order\u001b[39m=\u001b[39m\u001b[39mNone\u001b[39;00m,\n\u001b[0;32m   2226\u001b[0m     orient\u001b[39m=\u001b[39m\u001b[39mNone\u001b[39;00m, color\u001b[39m=\u001b[39m\u001b[39mNone\u001b[39;00m, palette\u001b[39m=\u001b[39m\u001b[39mNone\u001b[39;00m, saturation\u001b[39m=\u001b[39m\u001b[39m.75\u001b[39m, width\u001b[39m=\u001b[39m\u001b[39m.8\u001b[39m,\n\u001b[0;32m   2227\u001b[0m     dodge\u001b[39m=\u001b[39m\u001b[39mTrue\u001b[39;00m, fliersize\u001b[39m=\u001b[39m\u001b[39m5\u001b[39m, linewidth\u001b[39m=\u001b[39m\u001b[39mNone\u001b[39;00m, whis\u001b[39m=\u001b[39m\u001b[39m1.5\u001b[39m, ax\u001b[39m=\u001b[39m\u001b[39mNone\u001b[39;00m,\n\u001b[0;32m   2228\u001b[0m     \u001b[39m*\u001b[39m\u001b[39m*\u001b[39mkwargs\n\u001b[0;32m   2229\u001b[0m ):\n\u001b[1;32m-> 2231\u001b[0m     plotter \u001b[39m=\u001b[39m _BoxPlotter(x, y, hue, data, order, hue_order,\n\u001b[0;32m   2232\u001b[0m                           orient, color, palette, saturation,\n\u001b[0;32m   2233\u001b[0m                           width, dodge, fliersize, linewidth)\n\u001b[0;32m   2235\u001b[0m     \u001b[39mif\u001b[39;00m ax \u001b[39mis\u001b[39;00m \u001b[39mNone\u001b[39;00m:\n\u001b[0;32m   2236\u001b[0m         ax \u001b[39m=\u001b[39m plt\u001b[39m.\u001b[39mgca()\n",
      "File \u001b[1;32m~\\AppData\\Local\\Packages\\PythonSoftwareFoundation.Python.3.10_qbz5n2kfra8p0\\LocalCache\\local-packages\\Python310\\site-packages\\seaborn\\categorical.py:786\u001b[0m, in \u001b[0;36m_BoxPlotter.__init__\u001b[1;34m(self, x, y, hue, data, order, hue_order, orient, color, palette, saturation, width, dodge, fliersize, linewidth)\u001b[0m\n\u001b[0;32m    781\u001b[0m \u001b[39mdef\u001b[39;00m \u001b[39m__init__\u001b[39m(\u001b[39mself\u001b[39m, x, y, hue, data, order, hue_order,\n\u001b[0;32m    782\u001b[0m              orient, color, palette, saturation,\n\u001b[0;32m    783\u001b[0m              width, dodge, fliersize, linewidth):\n\u001b[0;32m    785\u001b[0m     \u001b[39mself\u001b[39m\u001b[39m.\u001b[39mestablish_variables(x, y, hue, data, orient, order, hue_order)\n\u001b[1;32m--> 786\u001b[0m     \u001b[39mself\u001b[39;49m\u001b[39m.\u001b[39;49mestablish_colors(color, palette, saturation)\n\u001b[0;32m    788\u001b[0m     \u001b[39mself\u001b[39m\u001b[39m.\u001b[39mdodge \u001b[39m=\u001b[39m dodge\n\u001b[0;32m    789\u001b[0m     \u001b[39mself\u001b[39m\u001b[39m.\u001b[39mwidth \u001b[39m=\u001b[39m width\n",
      "File \u001b[1;32m~\\AppData\\Local\\Packages\\PythonSoftwareFoundation.Python.3.10_qbz5n2kfra8p0\\LocalCache\\local-packages\\Python310\\site-packages\\seaborn\\categorical.py:707\u001b[0m, in \u001b[0;36m_CategoricalPlotter.establish_colors\u001b[1;34m(self, color, palette, saturation)\u001b[0m\n\u001b[0;32m    705\u001b[0m \u001b[39m# Determine the gray color to use for the lines framing the plot\u001b[39;00m\n\u001b[0;32m    706\u001b[0m light_vals \u001b[39m=\u001b[39m [rgb_to_hls(\u001b[39m*\u001b[39mc)[\u001b[39m1\u001b[39m] \u001b[39mfor\u001b[39;00m c \u001b[39min\u001b[39;00m rgb_colors]\n\u001b[1;32m--> 707\u001b[0m lum \u001b[39m=\u001b[39m \u001b[39mmin\u001b[39;49m(light_vals) \u001b[39m*\u001b[39m \u001b[39m.6\u001b[39m\n\u001b[0;32m    708\u001b[0m gray \u001b[39m=\u001b[39m mpl\u001b[39m.\u001b[39mcolors\u001b[39m.\u001b[39mrgb2hex((lum, lum, lum))\n\u001b[0;32m    710\u001b[0m \u001b[39m# Assign object attributes\u001b[39;00m\n",
      "\u001b[1;31mValueError\u001b[0m: min() arg is an empty sequence"
     ]
    }
   ],
   "source": [
    "# Definir lista de columnas que contienen información sobre las diferentes tecnologías de acceso a Internet\n",
    "tecnologias = [\"ADSL\", \"CABLEMODEM\", \"DIAL UP\", \"FIBRA OPTICA\", \"OTROS\", \"SATELITAL\", \"WIMAX\", \"WIRELESS\"]\n",
    "\n",
    "# Detección de outliers\n",
    "sns.boxplot(data=Internet_TecyLocalidad[tecnologias]) # Verificar si hay outliers"
   ]
  }
 ],
 "metadata": {
  "kernelspec": {
   "display_name": "Python 3",
   "language": "python",
   "name": "python3"
  },
  "language_info": {
   "codemirror_mode": {
    "name": "ipython",
    "version": 3
   },
   "file_extension": ".py",
   "mimetype": "text/x-python",
   "name": "python",
   "nbconvert_exporter": "python",
   "pygments_lexer": "ipython3",
   "version": "3.10.11"
  },
  "orig_nbformat": 4
 },
 "nbformat": 4,
 "nbformat_minor": 2
}
